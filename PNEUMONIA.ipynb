{
 "cells": [
  {
   "cell_type": "code",
   "execution_count": 1,
   "id": "a9e6068c",
   "metadata": {},
   "outputs": [],
   "source": [
    "from keras.preprocessing.image import ImageDataGenerator, load_img\n",
    "from keras.models import Sequential\n",
    "from keras.layers import Conv2D , MaxPooling2D\n",
    "from keras.layers import Activation, Flatten, Dropout, Dense, BatchNormalization\n",
    "from keras import backend as K\n",
    "import os\n",
    "import numpy as np\n",
    "import pandas as pd"
   ]
  },
  {
   "cell_type": "code",
   "execution_count": 2,
   "id": "0035aa86",
   "metadata": {},
   "outputs": [],
   "source": [
    "train = \"chest_xray/train\"\n",
    "test = \"chest_xray/test\"\n",
    "val = \"chest_xray/val\""
   ]
  },
  {
   "cell_type": "code",
   "execution_count": 3,
   "id": "815a0b8d",
   "metadata": {},
   "outputs": [],
   "source": [
    "train_datagen = ImageDataGenerator(rescale = 1./255, shear_range = 0.2, zoom_range = 0.2, rotation_range = 30,\n",
    "                                   width_shift_range=0.1, height_shift_range=0.1, horizontal_flip = True, vertical_flip=False)\n",
    "test_datagen = ImageDataGenerator(rescale = 1./255)"
   ]
  },
  {
   "cell_type": "code",
   "execution_count": 4,
   "id": "6a346285",
   "metadata": {},
   "outputs": [
    {
     "name": "stdout",
     "output_type": "stream",
     "text": [
      "Found 5216 images belonging to 2 classes.\n"
     ]
    }
   ],
   "source": [
    "train_gen = train_datagen.flow_from_directory(train,\n",
    "                                            target_size = (150,150),\n",
    "                                            batch_size = 32,\n",
    "                                            class_mode = \"binary\" )"
   ]
  },
  {
   "cell_type": "code",
   "execution_count": 5,
   "id": "0c39648c",
   "metadata": {},
   "outputs": [
    {
     "name": "stdout",
     "output_type": "stream",
     "text": [
      "Found 624 images belonging to 2 classes.\n"
     ]
    }
   ],
   "source": [
    "test_gen = train_datagen.flow_from_directory(test,\n",
    "                                            target_size = (150,150),\n",
    "                                            batch_size = 32,\n",
    "                                            class_mode = \"binary\" )"
   ]
  },
  {
   "cell_type": "code",
   "execution_count": 6,
   "id": "7a65554c",
   "metadata": {},
   "outputs": [
    {
     "name": "stdout",
     "output_type": "stream",
     "text": [
      "Found 16 images belonging to 2 classes.\n"
     ]
    }
   ],
   "source": [
    "val_gen = train_datagen.flow_from_directory(val,\n",
    "                                            target_size = (150,150),\n",
    "                                            batch_size = 32,\n",
    "                                            class_mode = \"binary\" )"
   ]
  },
  {
   "cell_type": "code",
   "execution_count": 7,
   "id": "6ac046f4",
   "metadata": {},
   "outputs": [],
   "source": [
    "model = Sequential()\n",
    "# The number of filters are 32 and the kernal_size is (3,3)\n",
    "model.add(Conv2D(32, (3, 3), input_shape=(150,150,3)))\n",
    "model.add(Activation('relu'))\n",
    "model.add(MaxPooling2D(pool_size=(2, 2)))\n",
    "\n",
    "model.add(Conv2D(64, (3, 3)))\n",
    "model.add(Activation('relu'))\n",
    "model.add(MaxPooling2D(pool_size=(2, 2)))\n",
    "\n",
    "model.add(Conv2D(128, (3, 3)))\n",
    "model.add(Activation('relu'))\n",
    "model.add(MaxPooling2D(pool_size=(2, 2)))\n",
    "\n",
    "model.add(Conv2D(256, (3, 3)))\n",
    "model.add(Activation('relu'))\n",
    "model.add(MaxPooling2D(pool_size=(2, 2)))\n",
    "\n",
    "model.add(Flatten())\n",
    "model.add(Dropout(0.2))\n",
    "\n",
    "model.add(Dense(256))\n",
    "model.add(Activation('relu'))\n",
    "model.add(Dense(1))\n",
    "model.add(Activation('sigmoid'))"
   ]
  },
  {
   "cell_type": "code",
   "execution_count": 8,
   "id": "4d502882",
   "metadata": {},
   "outputs": [],
   "source": [
    "model.compile(optimizer = \"adam\",loss = \"binary_crossentropy\",metrics = [\"acc\"])"
   ]
  },
  {
   "cell_type": "code",
   "execution_count": 9,
   "id": "6dc5da6b",
   "metadata": {},
   "outputs": [
    {
     "name": "stdout",
     "output_type": "stream",
     "text": [
      "WARNING:tensorflow:From <ipython-input-9-8ad32eccb7ba>:1: Model.fit_generator (from tensorflow.python.keras.engine.training) is deprecated and will be removed in a future version.\n",
      "Instructions for updating:\n",
      "Please use Model.fit, which supports generators.\n",
      "Epoch 1/20\n",
      "163/163 [==============================] - 404s 2s/step - loss: 0.5012 - acc: 0.7644 - val_loss: 0.5860 - val_acc: 0.9375\n",
      "Epoch 2/20\n",
      "163/163 [==============================] - 173s 1s/step - loss: 0.3387 - acc: 0.8545 - val_loss: 1.4147 - val_acc: 0.5000\n",
      "Epoch 3/20\n",
      "163/163 [==============================] - 173s 1s/step - loss: 0.2889 - acc: 0.8786 - val_loss: 0.3852 - val_acc: 0.8125\n",
      "Epoch 4/20\n",
      "163/163 [==============================] - 172s 1s/step - loss: 0.2410 - acc: 0.8995 - val_loss: 0.5397 - val_acc: 0.8125\n",
      "Epoch 5/20\n",
      "163/163 [==============================] - 172s 1s/step - loss: 0.2146 - acc: 0.9183 - val_loss: 0.8247 - val_acc: 0.6250\n",
      "Epoch 6/20\n",
      "163/163 [==============================] - 172s 1s/step - loss: 0.2078 - acc: 0.9151 - val_loss: 0.4537 - val_acc: 0.8125\n",
      "Epoch 7/20\n",
      "163/163 [==============================] - 173s 1s/step - loss: 0.1963 - acc: 0.9191 - val_loss: 0.7026 - val_acc: 0.6250\n",
      "Epoch 8/20\n",
      "163/163 [==============================] - 173s 1s/step - loss: 0.1701 - acc: 0.9352 - val_loss: 1.1573 - val_acc: 0.6250\n",
      "Epoch 9/20\n",
      "163/163 [==============================] - 172s 1s/step - loss: 0.1684 - acc: 0.9354 - val_loss: 0.6056 - val_acc: 0.6875\n",
      "Epoch 10/20\n",
      "163/163 [==============================] - 172s 1s/step - loss: 0.1676 - acc: 0.9365 - val_loss: 0.5577 - val_acc: 0.8125\n",
      "Epoch 11/20\n",
      "163/163 [==============================] - 173s 1s/step - loss: 0.1570 - acc: 0.9394 - val_loss: 0.4785 - val_acc: 0.7500\n",
      "Epoch 12/20\n",
      "163/163 [==============================] - 173s 1s/step - loss: 0.1484 - acc: 0.9448 - val_loss: 0.6041 - val_acc: 0.6875\n",
      "Epoch 13/20\n",
      "163/163 [==============================] - 173s 1s/step - loss: 0.1555 - acc: 0.9390 - val_loss: 1.3108 - val_acc: 0.5625\n",
      "Epoch 14/20\n",
      "163/163 [==============================] - 173s 1s/step - loss: 0.1467 - acc: 0.9431 - val_loss: 1.1127 - val_acc: 0.6250\n",
      "Epoch 15/20\n",
      "163/163 [==============================] - 173s 1s/step - loss: 0.1354 - acc: 0.9480 - val_loss: 1.4687 - val_acc: 0.5625\n",
      "Epoch 16/20\n",
      "163/163 [==============================] - 173s 1s/step - loss: 0.1278 - acc: 0.9517 - val_loss: 0.8513 - val_acc: 0.6250\n",
      "Epoch 17/20\n",
      "163/163 [==============================] - 172s 1s/step - loss: 0.1317 - acc: 0.9494 - val_loss: 1.5722 - val_acc: 0.5625\n",
      "Epoch 18/20\n",
      "163/163 [==============================] - 176s 1s/step - loss: 0.1322 - acc: 0.9479 - val_loss: 1.4767 - val_acc: 0.6875\n",
      "Epoch 19/20\n",
      "163/163 [==============================] - 181s 1s/step - loss: 0.1271 - acc: 0.9532 - val_loss: 0.9335 - val_acc: 0.6250\n",
      "Epoch 20/20\n",
      "163/163 [==============================] - 187s 1s/step - loss: 0.1325 - acc: 0.9500 - val_loss: 0.3383 - val_acc: 0.7500\n"
     ]
    }
   ],
   "source": [
    "history = model.fit_generator(train_gen,\n",
    "                         steps_per_epoch = 163,\n",
    "                         epochs = 20,\n",
    "                         validation_data = val_gen,\n",
    "                         validation_steps = 1)"
   ]
  },
  {
   "cell_type": "code",
   "execution_count": 10,
   "id": "7c414d94",
   "metadata": {},
   "outputs": [
    {
     "name": "stdout",
     "output_type": "stream",
     "text": [
      "WARNING:tensorflow:From <ipython-input-10-370cc789ba9d>:2: Model.evaluate_generator (from tensorflow.python.keras.engine.training) is deprecated and will be removed in a future version.\n",
      "Instructions for updating:\n",
      "Please use Model.evaluate, which supports generators.\n",
      "\n",
      "Accuracy: 83.01%\n"
     ]
    }
   ],
   "source": [
    "#Accuracy of test data.\n",
    "test_acc = model.evaluate_generator(test_gen,624/32)\n",
    "print(\"\\nAccuracy:\"+\" %.2f%%\" % ( test_acc[1]*100))"
   ]
  },
  {
   "cell_type": "code",
   "execution_count": 11,
   "id": "d62d638a",
   "metadata": {},
   "outputs": [],
   "source": [
    "model.save(\"pneumonia.h5\")"
   ]
  },
  {
   "cell_type": "code",
   "execution_count": 12,
   "id": "7aa05633",
   "metadata": {},
   "outputs": [],
   "source": [
    "model_json = model.to_json()\n",
    "with open(\"model.json\",\"w\") as json_file:\n",
    "    json_file.write(model_json)"
   ]
  },
  {
   "cell_type": "code",
   "execution_count": 13,
   "id": "d5225b64",
   "metadata": {},
   "outputs": [],
   "source": [
    "from tensorflow.keras.models import load_model\n",
    "from tensorflow.keras.preprocessing import image\n",
    "import numpy as np\n",
    "import cv2"
   ]
  },
  {
   "cell_type": "code",
   "execution_count": 14,
   "id": "3d0d08c3",
   "metadata": {},
   "outputs": [],
   "source": [
    "model = load_model(\"pneumonia.h5\")"
   ]
  },
  {
   "cell_type": "code",
   "execution_count": 15,
   "id": "86c77b10",
   "metadata": {},
   "outputs": [],
   "source": [
    "from skimage.transform import resize"
   ]
  },
  {
   "cell_type": "code",
   "execution_count": 16,
   "id": "d58a29b2",
   "metadata": {},
   "outputs": [],
   "source": [
    "def detect(frame):\n",
    "    try:\n",
    "        img = resize(frame, (150,150))\n",
    "        img = np.expand_dims(img, axis=0)\n",
    "        prediction = model.predict(img)\n",
    "        print(prediction)\n",
    "        prediction = prediction > 0.5\n",
    "        print(prediction)\n",
    "        s = \"PNEUMONIA\" if (prediction[0][0]) else \"NORMAL\"\n",
    "        return (s)\n",
    "    except AttributeError:\n",
    "        print(\"SHAPE NOT FOUND\")"
   ]
  },
  {
   "cell_type": "code",
   "execution_count": 17,
   "id": "7ea552ba",
   "metadata": {},
   "outputs": [
    {
     "data": {
      "image/png": "[encoded data removed]",
      "text/plain": [
       "<PIL.Image.Image image mode=RGB size=128x128 at 0x1FF0063F7F0>"
      ]
     },
     "execution_count": 17,
     "metadata": {},
     "output_type": "execute_result"
    }
   ],
   "source": [
    "image.load_img(\"test1.jpeg\",target_size = (128,128))"
   ]
  },
  {
   "cell_type": "code",
   "execution_count": 18,
   "id": "51d692ca",
   "metadata": {},
   "outputs": [
    {
     "name": "stdout",
     "output_type": "stream",
     "text": [
      "[[0.23195472]]\n",
      "[[False]]\n"
     ]
    },
    {
     "data": {
      "text/plain": [
       "'NORMAL'"
      ]
     },
     "execution_count": 18,
     "metadata": {},
     "output_type": "execute_result"
    }
   ],
   "source": [
    "frame = cv2.imread(\"test1.jpeg\")\n",
    "data = detect(frame)\n",
    "data"
   ]
  },
  {
   "cell_type": "code",
   "execution_count": 19,
   "id": "140b2dfd",
   "metadata": {},
   "outputs": [
    {
     "data": {
      "image/png": "[encoded data removed]",
      "text/plain": [
       "<PIL.Image.Image image mode=RGB size=128x128 at 0x1FF0056E790>"
      ]
     },
     "execution_count": 19,
     "metadata": {},
     "output_type": "execute_result"
    }
   ],
   "source": [
    "image.load_img(\"test2.jpeg\",target_size = (128,128))"
   ]
  },
  {
   "cell_type": "code",
   "execution_count": 20,
   "id": "e7fc969d",
   "metadata": {},
   "outputs": [
    {
     "name": "stdout",
     "output_type": "stream",
     "text": [
      "[[0.9963815]]\n",
      "[[ True]]\n"
     ]
    },
    {
     "data": {
      "text/plain": [
       "'PNEUMONIA'"
      ]
     },
     "execution_count": 20,
     "metadata": {},
     "output_type": "execute_result"
    }
   ],
   "source": [
    "frame = cv2.imread(\"test2.jpeg\")\n",
    "data = detect(frame)\n",
    "data"
   ]
  }
 ],
 "metadata": {
  "kernelspec": {
   "display_name": "Python 3.10.2 64-bit",
   "language": "python",
   "name": "python3"
  },
  "language_info": {
   "codemirror_mode": {
    "name": "ipython",
    "version": 3
   },
   "file_extension": ".py",
   "mimetype": "text/x-python",
   "name": "python",
   "nbconvert_exporter": "python",
   "pygments_lexer": "ipython3",
   "version": "3.10.2"
  },
  "vscode": {
   "interpreter": {
    "hash": "369f2c481f4da34e4445cda3fffd2e751bd1c4d706f27375911949ba6bb62e1c"
   }
  }
 },
 "nbformat": 4,
 "nbformat_minor": 5
}
